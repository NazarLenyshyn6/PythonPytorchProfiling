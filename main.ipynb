{
 "cells": [
  {
   "cell_type": "code",
   "execution_count": 11,
   "metadata": {},
   "outputs": [
    {
     "name": "stdout",
     "output_type": "stream",
     "text": [
      "Hello my name is bob and i am hello years old\n",
      "Profiler: <class 'PythonProfiling.PythonFunctionsProfiling.fTimeProfiling.time_profiling.fMonotonicTimeProfiler'>\n",
      "Profiled Function: exception_func\n",
      "Function Args: (0,)\n",
      "Function Kwargs: {}\n",
      "Function Result: None\n",
      "Function Executions Time: 0.000004 seconds\n",
      "Function Exception: ZeroDivisionError\n"
     ]
    }
   ],
   "source": [
    "from PythonProfiling.PythonFunctionsProfiling.fTimeProfiling.time_profiling_decorators import fTimeProfilerDecorator\n",
    "from PythonProfiling.PythonFunctionsProfiling.fTimeProfiling.time_profiling import fCPUTimeProfiler\n",
    "\n",
    "@fTimeProfilerDecorator('cpu_time_profiler')\n",
    "def func(age, name):\n",
    "    print(f'Hello my name is {name} and i am {age} years old')\n",
    "    \n",
    "    \n",
    "@fTimeProfilerDecorator('monotonic_time_profiler')\n",
    "def exception_func(num):\n",
    "    return 1 / num\n",
    "    \n",
    "def hello(name):\n",
    "    return  f'hello {name}'\n",
    "\n",
    "result = func('hello', name='bob')\n",
    "result_1 = exception_func(10)\n",
    "result_2 = exception_func(0)\n",
    "\n",
    "\n",
    "print(result_2)"
   ]
  },
  {
   "cell_type": "code",
   "execution_count": null,
   "metadata": {},
   "outputs": [],
   "source": []
  }
 ],
 "metadata": {
  "kernelspec": {
   "display_name": "base",
   "language": "python",
   "name": "python3"
  },
  "language_info": {
   "codemirror_mode": {
    "name": "ipython",
    "version": 3
   },
   "file_extension": ".py",
   "mimetype": "text/x-python",
   "name": "python",
   "nbconvert_exporter": "python",
   "pygments_lexer": "ipython3",
   "version": "3.10.9"
  }
 },
 "nbformat": 4,
 "nbformat_minor": 2
}
