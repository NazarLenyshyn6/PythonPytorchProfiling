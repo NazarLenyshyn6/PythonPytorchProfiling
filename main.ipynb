{
 "cells": [
  {
   "cell_type": "code",
   "execution_count": 1,
   "metadata": {},
   "outputs": [
    {
     "name": "stdout",
     "output_type": "stream",
     "text": [
      "Hello mark\n"
     ]
    }
   ],
   "source": [
    "from PythonProfiling.PythonFunctionsProfiling.fTimeProfiling.time_profiling_decorators import fTimeProfilerDecorator\n",
    "from Internals.profiling_enums import fTimeProfilingStrategy\n",
    "\n",
    "\n",
    "@fTimeProfilerDecorator(time_profiler_name=fTimeProfilingStrategy.CPU)\n",
    "def hello(name):\n",
    "    print(f'Hello {name}')\n",
    "    \n",
    "    return 1\n",
    "\n",
    "\n",
    "profiling_result = hello('mark')"
   ]
  },
  {
   "cell_type": "code",
   "execution_count": 2,
   "metadata": {},
   "outputs": [
    {
     "name": "stdout",
     "output_type": "stream",
     "text": [
      "Profiler: <class 'PythonProfiling.PythonFunctionsProfiling.fTimeProfiling.time_profiling.fCPUTimeProfiler'>\n",
      "Profiled Function: hello\n",
      "Function Args: ('mark',)\n",
      "Function Kwargs: {}\n",
      "Function Result: 1\n",
      "Function Executions Time: 0.000077 seconds\n",
      "Function Exception: None\n"
     ]
    }
   ],
   "source": [
    "print(profiling_result)"
   ]
  },
  {
   "cell_type": "code",
   "execution_count": 4,
   "metadata": {},
   "outputs": [],
   "source": [
    "from Internals.profiling_enums import SerializationStrategy\n",
    "profiling_result.dump('profiling_result.txt', extension=SerializationStrategy.TXT)"
   ]
  },
  {
   "cell_type": "code",
   "execution_count": 5,
   "metadata": {},
   "outputs": [
    {
     "data": {
      "text/plain": [
       "dict_keys([<fTimeProfilingStrategy.BASE: 'Base Time Profiler'>, <fTimeProfilingStrategy.PRECISE: 'Precise Time Profiler'>, <fTimeProfilingStrategy.CPU: 'CPU Time Profiler'>, <fTimeProfilingStrategy.THREAD: 'Thread Time Profiler'>, <fTimeProfilingStrategy.MONOTONIC: 'Monotonic Time Profiler'>])"
      ]
     },
     "execution_count": 5,
     "metadata": {},
     "output_type": "execute_result"
    }
   ],
   "source": [
    "fTimeProfilerDecorator.avaliable_time_profilers()"
   ]
  },
  {
   "cell_type": "code",
   "execution_count": 6,
   "metadata": {},
   "outputs": [
    {
     "ename": "KeyError",
     "evalue": "<ProfilingOutputFormat.JSON: '.json'>",
     "output_type": "error",
     "traceback": [
      "\u001b[0;31m---------------------------------------------------------------------------\u001b[0m",
      "\u001b[0;31mKeyError\u001b[0m                                  Traceback (most recent call last)",
      "Cell \u001b[0;32mIn[6], line 12\u001b[0m\n\u001b[1;32m      8\u001b[0m \u001b[38;5;129m@fTimeProfilerDecorator\u001b[39m(storages\u001b[38;5;241m=\u001b[39mstorages)\n\u001b[1;32m      9\u001b[0m \u001b[38;5;28;01mdef\u001b[39;00m \u001b[38;5;21mcalculation\u001b[39m(number):\n\u001b[1;32m     10\u001b[0m     \u001b[38;5;28;01mreturn\u001b[39;00m \u001b[38;5;241m1\u001b[39m \u001b[38;5;241m/\u001b[39m number\n\u001b[0;32m---> 12\u001b[0m \u001b[43mcalculation\u001b[49m\u001b[43m(\u001b[49m\u001b[43mnumber\u001b[49m\u001b[38;5;241;43m=\u001b[39;49m\u001b[38;5;241;43m0\u001b[39;49m\u001b[43m)\u001b[49m\n",
      "File \u001b[0;32m~/Desktop/Profiling Project/PythonProfiling/PythonFunctionsProfiling/fTimeProfiling/time_profiling_decorators.py:84\u001b[0m, in \u001b[0;36mfTimeProfilerDecorator.__call__.<locals>.wrapper\u001b[0;34m(*args, **kwargs)\u001b[0m\n\u001b[1;32m     81\u001b[0m \u001b[38;5;129m@wraps\u001b[39m(func)\n\u001b[1;32m     82\u001b[0m \u001b[38;5;28;01mdef\u001b[39;00m \u001b[38;5;21mwrapper\u001b[39m(\u001b[38;5;241m*\u001b[39margs, \u001b[38;5;241m*\u001b[39m\u001b[38;5;241m*\u001b[39mkwargs):\n\u001b[1;32m     83\u001b[0m     result \u001b[38;5;241m=\u001b[39m \u001b[38;5;28mself\u001b[39m\u001b[38;5;241m.\u001b[39mtime_profiler\u001b[38;5;241m.\u001b[39mprofile(func, \u001b[38;5;241m*\u001b[39margs, \u001b[38;5;241m*\u001b[39m\u001b[38;5;241m*\u001b[39mkwargs)\n\u001b[0;32m---> 84\u001b[0m     \u001b[38;5;28;43mself\u001b[39;49m\u001b[38;5;241;43m.\u001b[39;49m\u001b[43mobserver\u001b[49m\u001b[38;5;241;43m.\u001b[39;49m\u001b[43msave_result\u001b[49m\u001b[43m(\u001b[49m\u001b[43mresult\u001b[49m\u001b[43m)\u001b[49m\n\u001b[1;32m     85\u001b[0m     \u001b[38;5;28;01mreturn\u001b[39;00m result\n",
      "File \u001b[0;32m~/Desktop/Profiling Project/Internals/observer.py:94\u001b[0m, in \u001b[0;36mObservationsHandler.save_result\u001b[0;34m(self, result)\u001b[0m\n\u001b[1;32m     89\u001b[0m check_input_type(provided_input\u001b[38;5;241m=\u001b[39mresult,\n\u001b[1;32m     90\u001b[0m                  required_input_type\u001b[38;5;241m=\u001b[39mfTimeProfilingResultI,\n\u001b[1;32m     91\u001b[0m                  exception_name\u001b[38;5;241m=\u001b[39m\u001b[38;5;124m'\u001b[39m\u001b[38;5;124mInvalidfTimeProfilingResultError\u001b[39m\u001b[38;5;124m'\u001b[39m)\n\u001b[1;32m     93\u001b[0m \u001b[38;5;28;01mfor\u001b[39;00m storage_format, storage_file_path \u001b[38;5;129;01min\u001b[39;00m \u001b[38;5;28mself\u001b[39m\u001b[38;5;241m.\u001b[39m_storages:\n\u001b[0;32m---> 94\u001b[0m     \u001b[38;5;28;43mself\u001b[39;49m\u001b[38;5;241;43m.\u001b[39;49m\u001b[43m_avaliable_observers\u001b[49m\u001b[43m[\u001b[49m\u001b[43mstorage_format\u001b[49m\u001b[43m]\u001b[49m\u001b[38;5;241m.\u001b[39msave_result(result, storage_file_path)\n",
      "\u001b[0;31mKeyError\u001b[0m: <ProfilingOutputFormat.JSON: '.json'>"
     ]
    }
   ],
   "source": [
    "from Internals.profiling_enums import ProfilingOutputFormat\n",
    "\n",
    "storages = [(ProfilingOutputFormat.JSON, 'storage.json'),\n",
    "            (ProfilingOutputFormat.TXT, 'storage.txt'),\n",
    "            (ProfilingOutputFormat.YAML, 'storage.yaml')]\n",
    "\n",
    "\n",
    "@fTimeProfilerDecorator(storages=storages)\n",
    "def calculation(number):\n",
    "    return 1 / number\n",
    "\n",
    "calculation(number=0)"
   ]
  },
  {
   "cell_type": "code",
   "execution_count": null,
   "metadata": {},
   "outputs": [],
   "source": []
  }
 ],
 "metadata": {
  "kernelspec": {
   "display_name": "base",
   "language": "python",
   "name": "python3"
  },
  "language_info": {
   "codemirror_mode": {
    "name": "ipython",
    "version": 3
   },
   "file_extension": ".py",
   "mimetype": "text/x-python",
   "name": "python",
   "nbconvert_exporter": "python",
   "pygments_lexer": "ipython3",
   "version": "3.10.9"
  }
 },
 "nbformat": 4,
 "nbformat_minor": 2
}
