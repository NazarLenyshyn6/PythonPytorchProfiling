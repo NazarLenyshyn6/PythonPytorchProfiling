{
 "cells": [
  {
   "cell_type": "code",
   "execution_count": 1,
   "metadata": {},
   "outputs": [
    {
     "name": "stdout",
     "output_type": "stream",
     "text": [
      "Hello mark\n"
     ]
    }
   ],
   "source": [
    "from PythonProfiling.PythonFunctionsProfiling.fTimeProfiling.time_profiling_decorators import fTimeProfilerDecorator\n",
    "\n",
    "@fTimeProfilerDecorator(time_profiler_name='precise_time_profiler')\n",
    "def hello(name):\n",
    "    print(f'Hello {name}')\n",
    "\n",
    "\n",
    "profiling_result = hello('mark')"
   ]
  },
  {
   "cell_type": "code",
   "execution_count": 4,
   "metadata": {},
   "outputs": [
    {
     "name": "stdout",
     "output_type": "stream",
     "text": [
      "Impossible to serialize data because of following exeption: invalid mode: 'dump'\n"
     ]
    }
   ],
   "source": [
    "profiling_result.to_txt(file_path='data.txt', mode='dump')"
   ]
  },
  {
   "cell_type": "code",
   "execution_count": null,
   "metadata": {},
   "outputs": [],
   "source": []
  }
 ],
 "metadata": {
  "language_info": {
   "name": "python"
  }
 },
 "nbformat": 4,
 "nbformat_minor": 2
}
